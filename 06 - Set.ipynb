{
 "cells": [
  {
   "cell_type": "markdown",
   "metadata": {},
   "source": [
    "# **Set**\n",
    "\n",
    "Set adalah kumpulan objek yang terdefinisi dengan baik sesuai dengan definisi matematika. Set dalam python sama dengan definisi matematika. Set didasarkan pada konsep hashing yang membuatnya dioptimalkan dalam operasi pencarian. Jadi, struktur ini digunakan ketika kita harus melakukan banyak operasi pencarian pada kumpulan data. Struktur data set digunakan ketika Kita ingin setiap item menjadi unik dalam kumpulan data yang besar.\n",
    "\n",
    "\n",
    "___"
   ]
  },
  {
   "cell_type": "markdown",
   "metadata": {},
   "source": [
    "#### **1.0. Set Data Type**\n",
    "\n",
    "Set termasuk collection data type sama seperti tipe data List, Tuple, dan Dictionary. **Tetapi perbedaan set dari yang lain adalah, tipe data set tidak mempunyai sistem indexing**, jadi Kita tidak bisa mengakses data berdasarkan indeks. Kemudian data didalam tipe data set bersifat unik atau tidak ada data duplikat, tidak memiliki urutan, dan mutable."
   ]
  },
  {
   "cell_type": "code",
   "execution_count": null,
   "metadata": {},
   "outputs": [],
   "source": [
    "# Contoh membuat tipe data set\n",
    "spam = {'size', 'fat', 'Fat', 'color', 'age'}\n",
    "spam"
   ]
  },
  {
   "cell_type": "code",
   "execution_count": null,
   "metadata": {},
   "outputs": [],
   "source": [
    "# Contoh membuat tipe data set dengan fungsi set()\n",
    "spam = set(['size', 'fat', 'fat', 'color', 'age'])\n",
    "spam"
   ]
  },
  {
   "cell_type": "markdown",
   "metadata": {},
   "source": [
    "#### **1.2. Adding item in a Set**\n",
    "\n",
    "Kita bisa menambahkan item ke dalam set dengan metode `add()` dan `update()`. Perbedaan keduanya adalah pada kemampuan jumlah item yang bisa ditambahkan. Misalnya, `spam.add('gender')` berarti menambahkan satu item yaitu `gender`."
   ]
  },
  {
   "cell_type": "code",
   "execution_count": null,
   "metadata": {},
   "outputs": [],
   "source": [
    "# Contoh menambahkan item dengan fungsi add()\n",
    "spam = {'size', 'fat', 'color', 'age'}\n",
    "print(f'Set sebelum: {spam}')\n",
    "\n",
    "spam.add(31)\n",
    "print(f'Set sesudah: {spam}')"
   ]
  },
  {
   "cell_type": "markdown",
   "metadata": {},
   "source": [
    "Adapun metode `update()` bisa menambahkan banyak item secara bersamaan."
   ]
  },
  {
   "cell_type": "code",
   "execution_count": null,
   "metadata": {},
   "outputs": [],
   "source": [
    "# Contoh menambahkan item dengan fungsi update()\n",
    "spam = {'size', 'fat', 'color', 'age'}\n",
    "print(f'Set sebelum: {spam}')\n",
    "\n",
    "spam.update({31, 2.56, True})\n",
    "print(f'Set sesudah: {spam}')"
   ]
  },
  {
   "cell_type": "markdown",
   "metadata": {},
   "source": [
    "#### **1.3. Removing Item from Set**\n",
    "\n",
    "Kita bisa menghapus item dalam set dengan metode `remove(), pop(), discard(), dan clear()`. Perbedaan mereka yaitu:\n",
    "\n",
    "* Metode `remove()` digunakan untuk menghapus item tertentu. "
   ]
  },
  {
   "cell_type": "code",
   "execution_count": null,
   "metadata": {},
   "outputs": [],
   "source": [
    "# Contoh menghapus item dengan fungsi remove()\n",
    "spam = {'size', 'fat', 'color', 'age'}\n",
    "print(f'Hasil sebelum: {spam}')\n",
    "\n",
    "spam.remove('age')\n",
    "print(f'Hasil sesudah: {spam}')"
   ]
  },
  {
   "cell_type": "markdown",
   "metadata": {},
   "source": [
    "* Metode `discard()` juga digunakan seperti fungsi remove()."
   ]
  },
  {
   "cell_type": "code",
   "execution_count": null,
   "metadata": {},
   "outputs": [],
   "source": [
    "# Contoh menghapus item dengan fungsi discard()\n",
    "spam = {'size', 'fat', 'color', 'age'}\n",
    "print(f'Hasil sebelum: {spam}')\n",
    "\n",
    "spam.discard('age')\n",
    "print(f'Hasil sesudah: {spam}')"
   ]
  },
  {
   "cell_type": "markdown",
   "metadata": {},
   "source": [
    "* Metode `pop()` tepat Kita gunakan ketika ingin menghapus item secara random."
   ]
  },
  {
   "cell_type": "code",
   "execution_count": null,
   "metadata": {},
   "outputs": [],
   "source": [
    "# Contoh menghapus item dengan fungsi pop()\n",
    "spam = {'size', 'age', 'fat', 'color', 'zophie', 'male'}\n",
    "print(f'Hasil sebelum: {spam}')\n",
    "\n",
    "spam.pop()\n",
    "print(f'Hasil sesudah: {spam}')"
   ]
  },
  {
   "cell_type": "markdown",
   "metadata": {},
   "source": [
    "* Metode `clear()` Kita gunakan ketika ingin menghapus semua item dalam set."
   ]
  },
  {
   "cell_type": "code",
   "execution_count": null,
   "metadata": {},
   "outputs": [],
   "source": [
    "# Contoh menghapus item dengan fungsi clear()\n",
    "spam = {'size', 'fat', 'color', 'age'}\n",
    "print(f'Hasil sebelum: {spam}')\n",
    "\n",
    "spam.clear()\n",
    "print(f'Hasil sesudah: {spam}')"
   ]
  },
  {
   "cell_type": "markdown",
   "metadata": {},
   "source": [
    "Mencoba menghapus item yang tidak ada dalam Set dengan remove(), akan mengakibatkan kesalahan `KeyError`."
   ]
  },
  {
   "cell_type": "markdown",
   "metadata": {},
   "source": [
    "#### **1.4. Using for Loop with Set**\n",
    "\n",
    "Kita bisa menerapkan for loop untuk akses item pada set tersebut."
   ]
  },
  {
   "cell_type": "code",
   "execution_count": null,
   "metadata": {},
   "outputs": [],
   "source": [
    "# Contoh penggunaan for loop pada set\n",
    "spam = {'size', 'fat', 'color', 'age'}\n",
    "\n",
    "for val in spam:\n",
    "    print(f'Value: {val}')"
   ]
  },
  {
   "cell_type": "markdown",
   "metadata": {},
   "source": [
    "#### **1.5. Checking Whether a Value Exists in a Set**\n",
    "\n",
    "Operator `in dan not in` dapat memeriksa apakah suatu nilai ada dalam Set. **Ekspresi ini akan menghasilkan nilai Boolean.**"
   ]
  },
  {
   "cell_type": "code",
   "execution_count": null,
   "metadata": {},
   "outputs": [],
   "source": [
    "# Contoh penerapan in dan not in pada set\n",
    "spam = {'size', 'fat', 'color', 'age'}\n",
    "\n",
    "print(f'Apakah age merupakan value di Set?: {\"age\" in spam}')\n",
    "print(f'Apakah nabil merupakan value di Set?: {\"nabil\" not in spam}')"
   ]
  },
  {
   "cell_type": "markdown",
   "metadata": {},
   "source": [
    "#### **1.6. Getting a Set Length with the len() Function**\n",
    "\n",
    "Fungsi `len()` **akan mengembalikan panjang set atau jumlah item yang ada dalam set**, serupa dengan fungsi menghitung jumlah item dalam list atau dictionary. "
   ]
  },
  {
   "cell_type": "code",
   "execution_count": 1,
   "metadata": {},
   "outputs": [
    {
     "name": "stdout",
     "output_type": "stream",
     "text": [
      "Panjang dari set spam adalah 4\n"
     ]
    }
   ],
   "source": [
    "# Contoh penggunaan fungsi len()\n",
    "spam = {'size', 'fat', 'color', 'age'}\n",
    "print(f'Panjang dari set spam adalah {len(spam)}')"
   ]
  },
  {
   "cell_type": "markdown",
   "metadata": {},
   "source": [
    "#### **1.7. The union() Methods**\n",
    "\n",
    "Kita dapat menggabungkan 2 set atau lebih dengan menggunakan metode `union()`. Metode ini menerima set lain sebagai argument nya, dan menggabungkannya menjadi sebuah set baru.\n"
   ]
  },
  {
   "cell_type": "code",
   "execution_count": null,
   "metadata": {},
   "outputs": [],
   "source": [
    "# Contoh penerapan metode union()\n",
    "spam1 = {'size', 'fat', 'color', 'age'}\n",
    "spam2 = {10, 5, 3.14, True}\n",
    "\n",
    "spam3 = spam1.union(spam2)\n",
    "print(f'Hasil gabungan: {spam3}')"
   ]
  },
  {
   "cell_type": "markdown",
   "metadata": {},
   "source": [
    "#### **1.8. The difference() and difference_update() Methods**\n",
    "\n",
    "Kita bisa mendapatkan perbedaan data yang tidak simetrik pada 1 set terhadap set lainnya dengan menggunakan metode `difference()` atau `difference_update()`. Perbedaan mereka yaitu:\n",
    "\n",
    "* Metode `difference()` mengembalikan sebuah himpunan yang berisi selisih antara dua himpunan. Set yang dikembalikan berisi item yang hanya ada di set pertama, dan bukan di kedua set."
   ]
  },
  {
   "cell_type": "code",
   "execution_count": null,
   "metadata": {},
   "outputs": [],
   "source": [
    "# Contoh penerapan metode difference()\n",
    "spam1 = {'size', 'fat', 'color', 'age'}\n",
    "spam2 = {'age', 5, 'color', True}\n",
    "\n",
    "spam3 = spam1.difference(spam2)\n",
    "spam3"
   ]
  },
  {
   "cell_type": "markdown",
   "metadata": {},
   "source": [
    "* Metode `difference_update()` sama seperti metode `difference()`, perbedaannya adalah metode `difference()` mengembalikan set baru, tanpa item yang tidak diinginkan, dan metode `difference_update()` menghapus item yang tidak diinginkan dari set asli."
   ]
  },
  {
   "cell_type": "code",
   "execution_count": null,
   "metadata": {},
   "outputs": [],
   "source": [
    "# Contoh penerapan metode difference_update()\n",
    "spam1 = {'size', 'fat', 'color', 'age'}\n",
    "spam2 = {'age', 5, 'color', True}\n",
    "\n",
    "spam1.difference_update(spam2)\n",
    "spam1"
   ]
  },
  {
   "cell_type": "markdown",
   "metadata": {},
   "source": [
    "#### **1.9. The symmetric_difference() and symmetric_difference_update() Methods**\n",
    "\n",
    "Kita bisa mendapatkan perbedaan data pada 1 set terhadap set lainnya secara simetrik dengan menggunakan metode `symmetric_difference()` atau `symmetric_difference_update()`. Perbedaan mereka yaitu:\n",
    "\n",
    "* Metode `symmetric_difference()` mengembalikan sebuah himpunan yang berisi semua item dari kedua himpunan, tetapi bukan item yang ada di kedua himpunan tersebut. Set yang dikembalikan berisi campuran item yang tidak ada di kedua set."
   ]
  },
  {
   "cell_type": "code",
   "execution_count": null,
   "metadata": {},
   "outputs": [],
   "source": [
    "# Contoh penerapan metode symmetric_difference()\n",
    "spam1 = {'size', 'fat', 'color', 'age'}\n",
    "spam2 = {'age', 5, 'color', True}\n",
    "\n",
    "spam3 = spam1.symmetric_difference(spam2)\n",
    "spam3"
   ]
  },
  {
   "cell_type": "markdown",
   "metadata": {},
   "source": [
    "* Metode `symmetric_difference_update()` memperbarui set asli dengan menghapus item yang ada di kedua set, dan memasukkan item lainnya."
   ]
  },
  {
   "cell_type": "code",
   "execution_count": null,
   "metadata": {},
   "outputs": [],
   "source": [
    "# Contoh penerapan metode symmetric_difference_update()\n",
    "spam1 = {'size', 'fat', 'color', 'age'}\n",
    "spam2 = {'age', 5, 'color', True}\n",
    "\n",
    "spam1.symmetric_difference_update(spam2)\n",
    "spam1"
   ]
  },
  {
   "cell_type": "markdown",
   "metadata": {},
   "source": [
    "#### **1.10. The intersection() and intersection_update() Methods**\n",
    "\n",
    "Kita bisa mendapatkan irisan atara satu set terhadap set lainnya dengan menggunakan metode `intersection()` atau `intersection_update()`. Perbedaan mereka yaitu:\n",
    "\n",
    "* Metode `intersection()` mengembalikan sebuah himpunan yang berisi kemiripan antara dua himpunan atau lebih.\n",
    "Set yang dikembalikan hanya berisi item yang ada di kedua set, atau di semua set jika perbandingan dilakukan dengan lebih dari dua set."
   ]
  },
  {
   "cell_type": "code",
   "execution_count": null,
   "metadata": {},
   "outputs": [],
   "source": [
    "# Contoh penerapan metode intersection()\n",
    "spam1 = {'size', 'fat', 'color', 'age'}\n",
    "spam2 = {'age', 5, 'color', True}\n",
    "\n",
    "spam3 = spam1.intersection(spam2)\n",
    "spam3"
   ]
  },
  {
   "cell_type": "markdown",
   "metadata": {},
   "source": [
    "* Metode `intersection_update()` mirip metode `intersection()`, perbedaannya metode `intersection()` mengembalikan sebuah himpunan baru, tanpa item-item yang tidak diinginkan, dan metode `intersection_update()` menghapus item-item yang tidak diinginkan dari himpunan asli."
   ]
  },
  {
   "cell_type": "code",
   "execution_count": null,
   "metadata": {},
   "outputs": [],
   "source": [
    "# Contoh penerapan metode intersection_update()\n",
    "spam1 = {'size', 'fat', 'color', 'age'}\n",
    "spam2 = {'age', 5, 'color', True}\n",
    "\n",
    "spam2.intersection_update(spam1)\n",
    "spam1"
   ]
  },
  {
   "cell_type": "markdown",
   "metadata": {},
   "source": [
    "#### **1.11. The isdisjoint(), issubset(), dan issuperset() Methods**\n",
    "\n",
    "Kita bisa melakukan cek hubungan keanggotaan antara suatu set dengan set lainnya menggunakan `isdisjoint()`, `issubset()`, dan `issuperset()`. Perbedaan mereka yaitu:\n",
    "\n",
    "* Metode `isdisjoint()` mengembalikan nilai True jika tidak ada item yang ada di kedua set, jika tidak maka mengembalikan nilai False."
   ]
  },
  {
   "cell_type": "code",
   "execution_count": null,
   "metadata": {},
   "outputs": [],
   "source": [
    "# Contoh penerapan metode isdisjoint()\n",
    "spam1 = {'size', 'fat', 'color', 'age'}\n",
    "spam2 = {1, 2, 3, 'fat'}\n",
    "\n",
    "spam1.isdisjoint(spam2)"
   ]
  },
  {
   "cell_type": "markdown",
   "metadata": {},
   "source": [
    "* Metode `issubset()` mengembalikan nilai True jika semua item dalam himpunan ada dalam himpunan yang ditentukan, jika tidak maka mengembalikan nilai False."
   ]
  },
  {
   "cell_type": "code",
   "execution_count": null,
   "metadata": {},
   "outputs": [],
   "source": [
    "# Contoh penerapan metode issubset()\n",
    "spam1 = {'size', 'fat', 'color', 'age'}\n",
    "spam2 = {'age', 'color'}\n",
    "\n",
    "spam2.issubset(spam1)"
   ]
  },
  {
   "cell_type": "markdown",
   "metadata": {},
   "source": [
    "* Metode `issuperset()` mengembalikan nilai True jika semua item dalam set yang ditentukan ada dalam set asli, jika tidak maka mengembalikan nilai False."
   ]
  },
  {
   "cell_type": "code",
   "execution_count": null,
   "metadata": {},
   "outputs": [],
   "source": [
    "# Contoh penerapan metode issuperset()\n",
    "spam1 = {'size', 'fat', 'color', 'age'}\n",
    "spam2 = {'age', 'color', 1}\n",
    "\n",
    "spam1.issuperset(spam2)"
   ]
  }
 ],
 "metadata": {
  "kernelspec": {
   "display_name": "Python 3 (ipykernel)",
   "language": "python",
   "name": "python3"
  },
  "language_info": {
   "codemirror_mode": {
    "name": "ipython",
    "version": 3
   },
   "file_extension": ".py",
   "mimetype": "text/x-python",
   "name": "python",
   "nbconvert_exporter": "python",
   "pygments_lexer": "ipython3",
   "version": "3.9.16"
  },
  "vscode": {
   "interpreter": {
    "hash": "31f2aee4e71d21fbe5cf8b01ff0e069b9275f58929596ceb00d14d90e3e16cd6"
   }
  }
 },
 "nbformat": 4,
 "nbformat_minor": 4
}
